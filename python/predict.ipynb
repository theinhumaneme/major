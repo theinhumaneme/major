{
 "cells": [
  {
   "cell_type": "code",
   "execution_count": 23,
   "metadata": {},
   "outputs": [
    {
     "name": "stdout",
     "output_type": "stream",
     "text": [
      "[1.]\n"
     ]
    }
   ],
   "source": [
    "import joblib\n",
    "import warnings\n",
    "warnings.filterwarnings(\"ignore\")\n",
    "import numpy as np\n",
    "loaded_model = joblib.load(\"./major/predict/GradientBoostingClassifierModelHyperTuned.sav\")\n",
    "result = loaded_model.predict([[148.0,0.0,0.015,0.0,0.0,0.0,0.0,74.0,0.2,78.0,3.6,14.0,139.0,153.0,0.0,0.0,148.0,148.0,149.0,0.0,0.0]])\n",
    "print(result)\n",
    "# np.array(result)\n",
    "# result.tolist()"
   ]
  }
 ],
 "metadata": {
  "kernelspec": {
   "display_name": "venv",
   "language": "python",
   "name": "python3"
  },
  "language_info": {
   "codemirror_mode": {
    "name": "ipython",
    "version": 3
   },
   "file_extension": ".py",
   "mimetype": "text/x-python",
   "name": "python",
   "nbconvert_exporter": "python",
   "pygments_lexer": "ipython3",
   "version": "3.10.6"
  },
  "orig_nbformat": 4
 },
 "nbformat": 4,
 "nbformat_minor": 2
}
