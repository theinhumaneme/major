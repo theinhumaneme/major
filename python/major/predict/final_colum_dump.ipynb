{
 "cells": [
  {
   "cell_type": "code",
   "execution_count": 35,
   "metadata": {},
   "outputs": [],
   "source": [
    "import pandas as pd\n",
    "import numpy as np\n",
    "from tensorflow.keras.models import load_model\n",
    "import joblib"
   ]
  },
  {
   "cell_type": "code",
   "execution_count": 36,
   "metadata": {},
   "outputs": [],
   "source": [
    "# model = load_model(\"./ann-classifier.h5\")\n",
    "model = joblib.load(\"./RandomForestClassifierModelHyperTuned.sav\")"
   ]
  },
  {
   "cell_type": "code",
   "execution_count": 37,
   "metadata": {},
   "outputs": [
    {
     "data": {
      "text/plain": [
       "array([[1.34e+02, 1.00e-03, 0.00e+00, ..., 1.06e+02, 2.15e+02, 0.00e+00],\n",
       "       [1.22e+02, 0.00e+00, 0.00e+00, ..., 1.23e+02, 3.00e+00, 1.00e+00],\n",
       "       [1.22e+02, 0.00e+00, 0.00e+00, ..., 1.23e+02, 3.00e+00, 1.00e+00],\n",
       "       ...,\n",
       "       [1.40e+02, 0.00e+00, 0.00e+00, ..., 1.45e+02, 1.00e+00, 1.00e+00],\n",
       "       [1.40e+02, 0.00e+00, 0.00e+00, ..., 1.45e+02, 2.00e+00, 0.00e+00],\n",
       "       [1.42e+02, 2.00e-03, 2.00e-03, ..., 1.45e+02, 1.00e+00, 0.00e+00]])"
      ]
     },
     "execution_count": 37,
     "metadata": {},
     "output_type": "execute_result"
    }
   ],
   "source": [
    "dataset = pd.read_csv(\"./test.csv\")\n",
    "\n",
    "x = dataset.iloc[:,:21].values\n",
    "x"
   ]
  },
  {
   "cell_type": "code",
   "execution_count": 38,
   "metadata": {},
   "outputs": [],
   "source": [
    "x = dataset.iloc[:,-1].values.tolist()\n",
    "for i in range(0,len(x)):\n",
    "    x[i] = int(x[i])\n",
    "# x.to_csv(\"test2.csv\")\n",
    "import json\n",
    "with open(\"hello.json\", \"w\") as outfile:\n",
    "    json.dump(x, outfile)"
   ]
  },
  {
   "cell_type": "code",
   "execution_count": null,
   "metadata": {},
   "outputs": [],
   "source": []
  }
 ],
 "metadata": {
  "kernelspec": {
   "display_name": "venv",
   "language": "python",
   "name": "python3"
  },
  "language_info": {
   "codemirror_mode": {
    "name": "ipython",
    "version": 3
   },
   "file_extension": ".py",
   "mimetype": "text/x-python",
   "name": "python",
   "nbconvert_exporter": "python",
   "pygments_lexer": "ipython3",
   "version": "3.10.6"
  },
  "orig_nbformat": 4
 },
 "nbformat": 4,
 "nbformat_minor": 2
}
